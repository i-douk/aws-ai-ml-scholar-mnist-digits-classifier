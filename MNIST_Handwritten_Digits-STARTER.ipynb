{
 "cells": [
  {
   "cell_type": "markdown",
   "metadata": {},
   "source": [
    "# Introduction\n",
    "\n",
    "In this project, you will build a neural network of your own design to evaluate the MNIST dataset.\n",
    "\n",
    "Some of the benchmark results on MNIST include can be found [on Yann LeCun's page](https://webcache.googleusercontent.com/search?q=cache:stAVPik6onEJ:yann.lecun.com/exdb/mnist) and include:\n",
    "\n",
    "88% [Lecun et al., 1998](https://hal.science/hal-03926082/document)\n",
    "\n",
    "95.3% [Lecun et al., 1998](https://hal.science/hal-03926082v1/document)\n",
    "\n",
    "99.65% [Ciresan et al., 2011](http://people.idsia.ch/~juergen/ijcai2011.pdf)\n",
    "\n",
    "\n",
    "MNIST is a great dataset for sanity checking your models, since the accuracy levels achieved by large convolutional neural networks and small linear models are both quite high. This makes it important to be familiar with the data.\n",
    "\n",
    "## Installation"
   ]
  },
  {
   "cell_type": "code",
   "execution_count": 28,
   "metadata": {},
   "outputs": [
    {
     "name": "stdout",
     "output_type": "stream",
     "text": [
      "Requirement already satisfied: ipywidgets==8.1.5 in /home/ubu/miniforge3/lib/python3.12/site-packages (from -r requirements.txt (line 1)) (8.1.5)\n",
      "Requirement already satisfied: comm>=0.1.3 in /home/ubu/.local/lib/python3.12/site-packages (from ipywidgets==8.1.5->-r requirements.txt (line 1)) (0.2.2)\n",
      "Requirement already satisfied: ipython>=6.1.0 in /home/ubu/.local/lib/python3.12/site-packages (from ipywidgets==8.1.5->-r requirements.txt (line 1)) (9.3.0)\n",
      "Requirement already satisfied: traitlets>=4.3.1 in /home/ubu/.local/lib/python3.12/site-packages (from ipywidgets==8.1.5->-r requirements.txt (line 1)) (5.14.3)\n",
      "Requirement already satisfied: widgetsnbextension~=4.0.12 in /home/ubu/miniforge3/lib/python3.12/site-packages (from ipywidgets==8.1.5->-r requirements.txt (line 1)) (4.0.14)\n",
      "Requirement already satisfied: jupyterlab-widgets~=3.0.12 in /home/ubu/miniforge3/lib/python3.12/site-packages (from ipywidgets==8.1.5->-r requirements.txt (line 1)) (3.0.15)\n",
      "Requirement already satisfied: decorator in /home/ubu/.local/lib/python3.12/site-packages (from ipython>=6.1.0->ipywidgets==8.1.5->-r requirements.txt (line 1)) (5.2.1)\n",
      "Requirement already satisfied: ipython-pygments-lexers in /home/ubu/.local/lib/python3.12/site-packages (from ipython>=6.1.0->ipywidgets==8.1.5->-r requirements.txt (line 1)) (1.1.1)\n",
      "Requirement already satisfied: jedi>=0.16 in /home/ubu/.local/lib/python3.12/site-packages (from ipython>=6.1.0->ipywidgets==8.1.5->-r requirements.txt (line 1)) (0.19.2)\n",
      "Requirement already satisfied: matplotlib-inline in /home/ubu/.local/lib/python3.12/site-packages (from ipython>=6.1.0->ipywidgets==8.1.5->-r requirements.txt (line 1)) (0.1.7)\n",
      "Requirement already satisfied: pexpect>4.3 in /home/ubu/.local/lib/python3.12/site-packages (from ipython>=6.1.0->ipywidgets==8.1.5->-r requirements.txt (line 1)) (4.9.0)\n",
      "Requirement already satisfied: prompt_toolkit<3.1.0,>=3.0.41 in /home/ubu/.local/lib/python3.12/site-packages (from ipython>=6.1.0->ipywidgets==8.1.5->-r requirements.txt (line 1)) (3.0.51)\n",
      "Requirement already satisfied: pygments>=2.4.0 in /home/ubu/.local/lib/python3.12/site-packages (from ipython>=6.1.0->ipywidgets==8.1.5->-r requirements.txt (line 1)) (2.19.1)\n",
      "Requirement already satisfied: stack_data in /home/ubu/.local/lib/python3.12/site-packages (from ipython>=6.1.0->ipywidgets==8.1.5->-r requirements.txt (line 1)) (0.6.3)\n",
      "Requirement already satisfied: wcwidth in /home/ubu/.local/lib/python3.12/site-packages (from prompt_toolkit<3.1.0,>=3.0.41->ipython>=6.1.0->ipywidgets==8.1.5->-r requirements.txt (line 1)) (0.2.13)\n",
      "Requirement already satisfied: parso<0.9.0,>=0.8.4 in /home/ubu/.local/lib/python3.12/site-packages (from jedi>=0.16->ipython>=6.1.0->ipywidgets==8.1.5->-r requirements.txt (line 1)) (0.8.4)\n",
      "Requirement already satisfied: ptyprocess>=0.5 in /home/ubu/.local/lib/python3.12/site-packages (from pexpect>4.3->ipython>=6.1.0->ipywidgets==8.1.5->-r requirements.txt (line 1)) (0.7.0)\n",
      "Requirement already satisfied: executing>=1.2.0 in /home/ubu/.local/lib/python3.12/site-packages (from stack_data->ipython>=6.1.0->ipywidgets==8.1.5->-r requirements.txt (line 1)) (2.2.0)\n",
      "Requirement already satisfied: asttokens>=2.1.0 in /home/ubu/.local/lib/python3.12/site-packages (from stack_data->ipython>=6.1.0->ipywidgets==8.1.5->-r requirements.txt (line 1)) (3.0.0)\n",
      "Requirement already satisfied: pure-eval in /home/ubu/.local/lib/python3.12/site-packages (from stack_data->ipython>=6.1.0->ipywidgets==8.1.5->-r requirements.txt (line 1)) (0.2.3)\n"
     ]
    }
   ],
   "source": [
    "# Restart the Kernel after you execute this command.\n",
    "\n",
    "!python -m pip install -r requirements.txt"
   ]
  },
  {
   "cell_type": "markdown",
   "metadata": {},
   "source": [
    "**Important: Restart the Kernel at this moment**"
   ]
  },
  {
   "cell_type": "markdown",
   "metadata": {},
   "source": [
    "## Imports"
   ]
  },
  {
   "cell_type": "code",
   "execution_count": 29,
   "metadata": {},
   "outputs": [],
   "source": [
    "## This cell contains the essential imports you will need – DO NOT CHANGE THE CONTENTS! ##\n",
    "import torch\n",
    "import torch.nn as nn\n",
    "import torch.nn.functional as F\n",
    "import torch.optim as optim\n",
    "import torchvision\n",
    "import torchvision.transforms as transforms\n",
    "import matplotlib.pyplot as plt\n",
    "import numpy as np"
   ]
  },
  {
   "cell_type": "markdown",
   "metadata": {},
   "source": [
    "## Load the Dataset\n",
    "\n",
    "Specify your transforms as a list if you intend to .\n",
    "The transforms module is already loaded as `transforms`.\n",
    "\n",
    "MNIST is fortunately included in the torchvision module.\n",
    "Then, you can create your dataset using the `MNIST` object from `torchvision.datasets` ([the documentation is available here](https://pytorch.org/vision/stable/datasets.html#mnist)).\n",
    "Make sure to specify `download=True`! \n",
    "\n",
    "Once your dataset is created, you'll also need to define a `DataLoader` from the `torch.utils.data` module for both the train and the test set."
   ]
  },
  {
   "cell_type": "code",
   "execution_count": 30,
   "metadata": {},
   "outputs": [],
   "source": [
    "# Define transforms\n",
    "transform = transforms.Compose([transforms.ToTensor(),\n",
    "                                transforms.Normalize((0.5,), (0.5,)),\n",
    "                              ])\n",
    "# Create training set and define training dataloader\n",
    "trainset = torchvision.datasets.MNIST('~/.pytorch/MNIST_data/', download=True, train=True, transform=transform)\n",
    "trainloader = torch.utils.data.DataLoader(trainset, batch_size=64, shuffle=True)\n",
    "\n",
    "# Create test set and define test dataloader\n",
    "testset = torchvision.datasets.MNIST('~/.pytorch/MNIST_data/', download=True, train=False, transform=transform)\n",
    "testloader = torch.utils.data.DataLoader(testset, batch_size=64)"
   ]
  },
  {
   "cell_type": "markdown",
   "metadata": {},
   "source": [
    "## Justify your preprocessing\n",
    "\n",
    "In your own words, why did you choose the transforms you chose? If you didn't use any preprocessing steps, why not?"
   ]
  },
  {
   "cell_type": "markdown",
   "metadata": {},
   "source": [
    "The first transformation is to transform the data into a Pytorch tensor which would scale pixel values from [0, 255] to [0.0, 1.0], the second transformation normalizes the tensor, Normalize(0.5, 0.5): transforms the pixel values from the range [0.0, 1.0] to [-1.0, 1.0]. "
   ]
  },
  {
   "cell_type": "markdown",
   "metadata": {},
   "source": [
    "## Explore the Dataset\n",
    "Using matplotlib, numpy, and torch, explore the dimensions of your data.\n",
    "\n",
    "You can view images using the `show5` function defined below – it takes a data loader as an argument.\n",
    "Remember that normalized images will look really weird to you! You may want to try changing your transforms to view images.\n",
    "Typically using no transforms other than `toTensor()` works well for viewing – but not as well for training your network.\n",
    "If `show5` doesn't work, go back and check your code for creating your data loaders and your training/test sets."
   ]
  },
  {
   "cell_type": "code",
   "execution_count": 31,
   "metadata": {},
   "outputs": [],
   "source": [
    "## This cell contains a function for showing 5 images from a dataloader – DO NOT CHANGE THE CONTENTS! ##\n",
    "def show5(img_loader):\n",
    "    dataiter = iter(img_loader)\n",
    "    \n",
    "    batch = next(dataiter)\n",
    "    labels = batch[1][0:5]\n",
    "    images = batch[0][0:5]\n",
    "    for i in range(5):\n",
    "        print(int(labels[i].detach()))\n",
    "    \n",
    "        image = images[i].numpy()\n",
    "        plt.imshow(image.T.squeeze().T)\n",
    "        plt.show()"
   ]
  },
  {
   "cell_type": "code",
   "execution_count": 32,
   "metadata": {},
   "outputs": [
    {
     "name": "stdout",
     "output_type": "stream",
     "text": [
      "2\n"
     ]
    },
    {
     "data": {
      "image/png": "[encoded data removed]",
      "text/plain": [
       "<Figure size 640x480 with 1 Axes>"
      ]
     },
     "metadata": {
      "image/png": {
       "height": 413,
       "width": 417
      }
     },
     "output_type": "display_data"
    },
    {
     "name": "stdout",
     "output_type": "stream",
     "text": [
      "6\n"
     ]
    },
    {
     "data": {
      "image/png": "[encoded data removed]",
      "text/plain": [
       "<Figure size 640x480 with 1 Axes>"
      ]
     },
     "metadata": {
      "image/png": {
       "height": 413,
       "width": 417
      }
     },
     "output_type": "display_data"
    },
    {
     "name": "stdout",
     "output_type": "stream",
     "text": [
      "8\n"
     ]
    },
    {
     "data": {
      "image/png": "[encoded data removed]",
      "text/plain": [
       "<Figure size 640x480 with 1 Axes>"
      ]
     },
     "metadata": {
      "image/png": {
       "height": 413,
       "width": 417
      }
     },
     "output_type": "display_data"
    },
    {
     "name": "stdout",
     "output_type": "stream",
     "text": [
      "6\n"
     ]
    },
    {
     "data": {
      "image/png": "[encoded data removed]",
      "text/plain": [
       "<Figure size 640x480 with 1 Axes>"
      ]
     },
     "metadata": {
      "image/png": {
       "height": 413,
       "width": 417
      }
     },
     "output_type": "display_data"
    },
    {
     "name": "stdout",
     "output_type": "stream",
     "text": [
      "6\n"
     ]
    },
    {
     "data": {
      "image/png": "[encoded data removed]",
      "text/plain": [
       "<Figure size 640x480 with 1 Axes>"
      ]
     },
     "metadata": {
      "image/png": {
       "height": 413,
       "width": 417
      }
     },
     "output_type": "display_data"
    }
   ],
   "source": [
    "# Explore data\n",
    "show5(trainloader)"
   ]
  },
  {
   "cell_type": "markdown",
   "metadata": {},
   "source": [
    "## Build your Neural Network\n",
    "Using the layers in `torch.nn` (which has been imported as `nn`) and the `torch.nn.functional` module (imported as `F`), construct a neural network based on the parameters of the dataset.\n",
    "Use any architecture you like. \n",
    "\n",
    "*Note*: If you did not flatten your tensors in your transforms or as part of your preprocessing and you are using only `Linear` layers, make sure to use the `Flatten` layer in your network!"
   ]
  },
  {
   "cell_type": "code",
   "execution_count": 33,
   "metadata": {},
   "outputs": [],
   "source": [
    "model = nn.Sequential(nn.Flatten(),\n",
    "                      nn.Linear(784, 128),\n",
    "                      nn.ReLU(),\n",
    "                      nn.Linear(128, 64),\n",
    "                      nn.ReLU(),\n",
    "                      nn.Linear(64, 10),\n",
    "                      nn.LogSoftmax(dim=1))"
   ]
  },
  {
   "cell_type": "markdown",
   "metadata": {},
   "source": [
    "Specify a loss function and an optimizer, and instantiate the model.\n",
    "\n",
    "If you use a less common loss function, please note why you chose that loss function in a comment."
   ]
  },
  {
   "cell_type": "code",
   "execution_count": 34,
   "metadata": {},
   "outputs": [],
   "source": [
    "\n",
    "criterion = nn.NLLLoss()\n",
    "optimizer = optim.SGD(model.parameters(), lr=0.003)\n"
   ]
  },
  {
   "cell_type": "markdown",
   "metadata": {},
   "source": [
    "## Running your Neural Network\n",
    "Use whatever method you like to train your neural network, and ensure you record the average loss at each epoch. \n",
    "Don't forget to use `torch.device()` and the `.to()` method for both your model and your data if you are using GPU!\n",
    "\n",
    "If you want to print your loss **during** each epoch, you can use the `enumerate` function and print the loss after a set number of batches. 250 batches works well for most people!"
   ]
  },
  {
   "cell_type": "code",
   "execution_count": 35,
   "metadata": {},
   "outputs": [
    {
     "name": "stdout",
     "output_type": "stream",
     "text": [
      "Training loss: 1.9025210800455576\n",
      "Epoch: 1/5..  Training Loss: 1.903.. \n",
      "Training loss: 0.836497440743548\n",
      "Epoch: 2/5..  Training Loss: 0.836.. \n",
      "Training loss: 0.5220563986630582\n",
      "Epoch: 3/5..  Training Loss: 0.522.. \n",
      "Training loss: 0.4282299214080453\n",
      "Epoch: 4/5..  Training Loss: 0.428.. \n",
      "Training loss: 0.38315405756997656\n",
      "Epoch: 5/5..  Training Loss: 0.383.. \n"
     ]
    }
   ],
   "source": [
    "device = torch.device(\"cuda\" if torch.cuda.is_available() else \"cpu\")\n",
    "\n",
    "epochs = 5\n",
    "train_losses= []\n",
    "model.to(device)\n",
    "for e in range(epochs):\n",
    "    running_loss = 0\n",
    "    for images, labels in trainloader:\n",
    "        inputs, labels = inputs.to(device), labels.to(device)\n",
    "        optimizer.zero_grad()\n",
    "\n",
    "        output = model(images)\n",
    "        loss = criterion(output, labels)\n",
    "        loss.backward()\n",
    "        optimizer.step()\n",
    "\n",
    "        running_loss += loss.item()\n",
    "    else:\n",
    "        print(f\"Training loss: {running_loss/len(trainloader)}\")\n",
    "\n",
    "        model.train()\n",
    "\n",
    "        train_losses.append(running_loss/len(trainloader))\n",
    "\n",
    "        print(\"Epoch: {}/{}.. \".format(e+1, epochs),\n",
    "                \"Training Loss: {:.3f}.. \".format(train_losses[-1]),\n",
    "                )"
   ]
  },
  {
   "cell_type": "markdown",
   "metadata": {},
   "source": [
    "Plot the training loss (and validation loss/accuracy, if recorded)."
   ]
  },
  {
   "cell_type": "code",
   "execution_count": 36,
   "metadata": {},
   "outputs": [
    {
     "data": {
      "text/plain": [
       "<matplotlib.legend.Legend at 0x750f4b5fa810>"
      ]
     },
     "execution_count": 36,
     "metadata": {},
     "output_type": "execute_result"
    },
    {
     "data": {
      "image/png": "[encoded data removed]",
      "text/plain": [
       "<Figure size 640x480 with 1 Axes>"
      ]
     },
     "metadata": {
      "image/png": {
       "height": 413,
       "width": 547
      }
     },
     "output_type": "display_data"
    }
   ],
   "source": [
    "%matplotlib inline\n",
    "%config InlineBackend.figure_format = 'retina'\n",
    "\n",
    "import matplotlib.pyplot as plt\n",
    "\n",
    "plt.plot(train_losses, label='Training loss')\n",
    "plt.legend(frameon=False)"
   ]
  },
  {
   "cell_type": "markdown",
   "metadata": {},
   "source": [
    "## Testing your model\n",
    "Using the previously created `DataLoader` for the test set, compute the percentage of correct predictions using the highest probability prediction. \n",
    "\n",
    "If your accuracy is over 90%, great work, but see if you can push a bit further! \n",
    "If your accuracy is under 90%, you'll need to make improvements.\n",
    "Go back and check your model architecture, loss function, and optimizer to make sure they're appropriate for an image classification task."
   ]
  },
  {
   "cell_type": "code",
   "execution_count": 37,
   "metadata": {},
   "outputs": [
    {
     "name": "stdout",
     "output_type": "stream",
     "text": [
      "Test loss: 0.002.. Test accuracy: 0.006\n",
      "Test loss: 0.004.. Test accuracy: 0.012\n",
      "Test loss: 0.006.. Test accuracy: 0.018\n",
      "Test loss: 0.008.. Test accuracy: 0.024\n",
      "Test loss: 0.011.. Test accuracy: 0.029\n",
      "Test loss: 0.014.. Test accuracy: 0.035\n",
      "Test loss: 0.016.. Test accuracy: 0.041\n",
      "Test loss: 0.019.. Test accuracy: 0.046\n",
      "Test loss: 0.022.. Test accuracy: 0.051\n",
      "Test loss: 0.025.. Test accuracy: 0.056\n",
      "Test loss: 0.028.. Test accuracy: 0.062\n",
      "Test loss: 0.031.. Test accuracy: 0.067\n",
      "Test loss: 0.032.. Test accuracy: 0.073\n",
      "Test loss: 0.034.. Test accuracy: 0.079\n",
      "Test loss: 0.037.. Test accuracy: 0.084\n",
      "Test loss: 0.039.. Test accuracy: 0.090\n",
      "Test loss: 0.042.. Test accuracy: 0.096\n",
      "Test loss: 0.045.. Test accuracy: 0.101\n",
      "Test loss: 0.048.. Test accuracy: 0.107\n",
      "Test loss: 0.053.. Test accuracy: 0.111\n",
      "Test loss: 0.057.. Test accuracy: 0.117\n",
      "Test loss: 0.059.. Test accuracy: 0.122\n",
      "Test loss: 0.062.. Test accuracy: 0.128\n",
      "Test loss: 0.065.. Test accuracy: 0.133\n",
      "Test loss: 0.068.. Test accuracy: 0.139\n",
      "Test loss: 0.070.. Test accuracy: 0.145\n",
      "Test loss: 0.074.. Test accuracy: 0.150\n",
      "Test loss: 0.079.. Test accuracy: 0.155\n",
      "Test loss: 0.081.. Test accuracy: 0.161\n",
      "Test loss: 0.084.. Test accuracy: 0.167\n",
      "Test loss: 0.086.. Test accuracy: 0.172\n",
      "Test loss: 0.090.. Test accuracy: 0.177\n",
      "Test loss: 0.093.. Test accuracy: 0.183\n",
      "Test loss: 0.097.. Test accuracy: 0.188\n",
      "Test loss: 0.100.. Test accuracy: 0.194\n",
      "Test loss: 0.104.. Test accuracy: 0.200\n",
      "Test loss: 0.106.. Test accuracy: 0.206\n",
      "Test loss: 0.110.. Test accuracy: 0.210\n",
      "Test loss: 0.111.. Test accuracy: 0.216\n",
      "Test loss: 0.114.. Test accuracy: 0.221\n",
      "Test loss: 0.118.. Test accuracy: 0.226\n",
      "Test loss: 0.120.. Test accuracy: 0.232\n",
      "Test loss: 0.123.. Test accuracy: 0.237\n",
      "Test loss: 0.125.. Test accuracy: 0.243\n",
      "Test loss: 0.127.. Test accuracy: 0.249\n",
      "Test loss: 0.130.. Test accuracy: 0.254\n",
      "Test loss: 0.133.. Test accuracy: 0.260\n",
      "Test loss: 0.134.. Test accuracy: 0.266\n",
      "Test loss: 0.137.. Test accuracy: 0.271\n",
      "Test loss: 0.139.. Test accuracy: 0.277\n",
      "Test loss: 0.141.. Test accuracy: 0.283\n",
      "Test loss: 0.143.. Test accuracy: 0.289\n",
      "Test loss: 0.146.. Test accuracy: 0.294\n",
      "Test loss: 0.148.. Test accuracy: 0.300\n",
      "Test loss: 0.150.. Test accuracy: 0.306\n",
      "Test loss: 0.154.. Test accuracy: 0.311\n",
      "Test loss: 0.156.. Test accuracy: 0.317\n",
      "Test loss: 0.158.. Test accuracy: 0.323\n",
      "Test loss: 0.162.. Test accuracy: 0.328\n",
      "Test loss: 0.168.. Test accuracy: 0.333\n",
      "Test loss: 0.171.. Test accuracy: 0.338\n",
      "Test loss: 0.175.. Test accuracy: 0.344\n",
      "Test loss: 0.177.. Test accuracy: 0.349\n",
      "Test loss: 0.180.. Test accuracy: 0.355\n",
      "Test loss: 0.182.. Test accuracy: 0.360\n",
      "Test loss: 0.186.. Test accuracy: 0.366\n",
      "Test loss: 0.189.. Test accuracy: 0.371\n",
      "Test loss: 0.193.. Test accuracy: 0.376\n",
      "Test loss: 0.195.. Test accuracy: 0.382\n",
      "Test loss: 0.198.. Test accuracy: 0.387\n",
      "Test loss: 0.201.. Test accuracy: 0.393\n",
      "Test loss: 0.204.. Test accuracy: 0.399\n",
      "Test loss: 0.206.. Test accuracy: 0.405\n",
      "Test loss: 0.208.. Test accuracy: 0.410\n",
      "Test loss: 0.210.. Test accuracy: 0.416\n",
      "Test loss: 0.213.. Test accuracy: 0.422\n",
      "Test loss: 0.217.. Test accuracy: 0.427\n",
      "Test loss: 0.220.. Test accuracy: 0.433\n",
      "Test loss: 0.221.. Test accuracy: 0.439\n",
      "Test loss: 0.223.. Test accuracy: 0.444\n",
      "Test loss: 0.225.. Test accuracy: 0.450\n",
      "Test loss: 0.227.. Test accuracy: 0.456\n",
      "Test loss: 0.228.. Test accuracy: 0.462\n",
      "Test loss: 0.229.. Test accuracy: 0.469\n",
      "Test loss: 0.229.. Test accuracy: 0.475\n",
      "Test loss: 0.230.. Test accuracy: 0.481\n",
      "Test loss: 0.231.. Test accuracy: 0.488\n",
      "Test loss: 0.233.. Test accuracy: 0.493\n",
      "Test loss: 0.235.. Test accuracy: 0.499\n",
      "Test loss: 0.237.. Test accuracy: 0.505\n",
      "Test loss: 0.238.. Test accuracy: 0.511\n",
      "Test loss: 0.241.. Test accuracy: 0.517\n",
      "Test loss: 0.244.. Test accuracy: 0.522\n",
      "Test loss: 0.246.. Test accuracy: 0.528\n",
      "Test loss: 0.249.. Test accuracy: 0.533\n",
      "Test loss: 0.252.. Test accuracy: 0.539\n",
      "Test loss: 0.254.. Test accuracy: 0.544\n",
      "Test loss: 0.255.. Test accuracy: 0.551\n",
      "Test loss: 0.255.. Test accuracy: 0.557\n",
      "Test loss: 0.257.. Test accuracy: 0.563\n",
      "Test loss: 0.258.. Test accuracy: 0.569\n",
      "Test loss: 0.261.. Test accuracy: 0.575\n",
      "Test loss: 0.263.. Test accuracy: 0.580\n",
      "Test loss: 0.266.. Test accuracy: 0.585\n",
      "Test loss: 0.268.. Test accuracy: 0.591\n",
      "Test loss: 0.271.. Test accuracy: 0.597\n",
      "Test loss: 0.274.. Test accuracy: 0.602\n",
      "Test loss: 0.275.. Test accuracy: 0.609\n",
      "Test loss: 0.276.. Test accuracy: 0.615\n",
      "Test loss: 0.277.. Test accuracy: 0.621\n",
      "Test loss: 0.278.. Test accuracy: 0.627\n",
      "Test loss: 0.279.. Test accuracy: 0.633\n",
      "Test loss: 0.280.. Test accuracy: 0.639\n",
      "Test loss: 0.282.. Test accuracy: 0.645\n",
      "Test loss: 0.283.. Test accuracy: 0.651\n",
      "Test loss: 0.284.. Test accuracy: 0.657\n",
      "Test loss: 0.286.. Test accuracy: 0.663\n",
      "Test loss: 0.288.. Test accuracy: 0.669\n",
      "Test loss: 0.289.. Test accuracy: 0.675\n",
      "Test loss: 0.291.. Test accuracy: 0.681\n",
      "Test loss: 0.292.. Test accuracy: 0.687\n",
      "Test loss: 0.293.. Test accuracy: 0.693\n",
      "Test loss: 0.298.. Test accuracy: 0.698\n",
      "Test loss: 0.302.. Test accuracy: 0.703\n",
      "Test loss: 0.303.. Test accuracy: 0.709\n",
      "Test loss: 0.304.. Test accuracy: 0.715\n",
      "Test loss: 0.306.. Test accuracy: 0.721\n",
      "Test loss: 0.307.. Test accuracy: 0.727\n",
      "Test loss: 0.308.. Test accuracy: 0.733\n",
      "Test loss: 0.310.. Test accuracy: 0.739\n",
      "Test loss: 0.312.. Test accuracy: 0.745\n",
      "Test loss: 0.313.. Test accuracy: 0.751\n",
      "Test loss: 0.314.. Test accuracy: 0.757\n",
      "Test loss: 0.315.. Test accuracy: 0.763\n",
      "Test loss: 0.316.. Test accuracy: 0.769\n",
      "Test loss: 0.317.. Test accuracy: 0.775\n",
      "Test loss: 0.317.. Test accuracy: 0.782\n",
      "Test loss: 0.317.. Test accuracy: 0.788\n",
      "Test loss: 0.318.. Test accuracy: 0.794\n",
      "Test loss: 0.318.. Test accuracy: 0.801\n",
      "Test loss: 0.322.. Test accuracy: 0.806\n",
      "Test loss: 0.324.. Test accuracy: 0.812\n",
      "Test loss: 0.325.. Test accuracy: 0.818\n",
      "Test loss: 0.326.. Test accuracy: 0.824\n",
      "Test loss: 0.327.. Test accuracy: 0.830\n",
      "Test loss: 0.328.. Test accuracy: 0.836\n",
      "Test loss: 0.329.. Test accuracy: 0.843\n",
      "Test loss: 0.330.. Test accuracy: 0.849\n",
      "Test loss: 0.332.. Test accuracy: 0.854\n",
      "Test loss: 0.333.. Test accuracy: 0.860\n",
      "Test loss: 0.336.. Test accuracy: 0.866\n",
      "Test loss: 0.339.. Test accuracy: 0.872\n",
      "Test loss: 0.343.. Test accuracy: 0.876\n",
      "Test loss: 0.346.. Test accuracy: 0.882\n",
      "Test loss: 0.350.. Test accuracy: 0.887\n",
      "Test loss: 0.354.. Test accuracy: 0.892\n",
      "Test loss: 0.355.. Test accuracy: 0.898\n"
     ]
    }
   ],
   "source": [
    "test_loss = 0\n",
    "accuracy = 0\n",
    "        \n",
    "# Turn off gradients for validation, saves memory and computations\n",
    "with torch.no_grad():\n",
    "    model.eval()\n",
    "    with torch.no_grad():\n",
    "                for inputs, labels in testloader:\n",
    "                    inputs, labels = inputs.to(device), labels.to(device)\n",
    "                    logps = model.forward(inputs)\n",
    "                    batch_loss = criterion(logps, labels)\n",
    "                    \n",
    "                    test_loss += batch_loss.item()\n",
    "                    \n",
    "                    # Calculate accuracy\n",
    "                    ps = torch.exp(logps)\n",
    "                    top_p, top_class = ps.topk(1, dim=1)\n",
    "                    equals = top_class == labels.view(*top_class.shape)\n",
    "                    accuracy += torch.mean(equals.type(torch.FloatTensor)).item()\n",
    "                    print(\n",
    "                        f\"Test loss: {test_loss/len(testloader):.3f}.. \"\n",
    "                        f\"Test accuracy: {accuracy/len(testloader):.3f}\")\n",
    "                    "
   ]
  },
  {
   "cell_type": "markdown",
   "metadata": {},
   "source": [
    "## Improving your model\n",
    "\n",
    "Once your model is done training, try tweaking your hyperparameters and training again below to improve your accuracy on the test set!"
   ]
  },
  {
   "cell_type": "code",
   "execution_count": 41,
   "metadata": {},
   "outputs": [
    {
     "name": "stdout",
     "output_type": "stream",
     "text": [
      "Training loss: 0.2823525544232143\n",
      "Epoch: 1/5..  Training Loss: 0.282.. \n",
      "Training loss: 0.2705370386494502\n",
      "Epoch: 2/5..  Training Loss: 0.271.. \n",
      "Training loss: 0.2588909530817573\n",
      "Epoch: 3/5..  Training Loss: 0.259.. \n",
      "Training loss: 0.24816809469925316\n",
      "Epoch: 4/5..  Training Loss: 0.248.. \n",
      "Training loss: 0.23788121222321795\n",
      "Epoch: 5/5..  Training Loss: 0.238.. \n",
      "Test loss: 0.001.. Test accuracy: 0.006\n",
      "Test loss: 0.002.. Test accuracy: 0.012\n",
      "Test loss: 0.003.. Test accuracy: 0.019\n",
      "Test loss: 0.004.. Test accuracy: 0.024\n",
      "Test loss: 0.006.. Test accuracy: 0.030\n",
      "Test loss: 0.008.. Test accuracy: 0.036\n",
      "Test loss: 0.010.. Test accuracy: 0.042\n",
      "Test loss: 0.012.. Test accuracy: 0.047\n",
      "Test loss: 0.014.. Test accuracy: 0.053\n",
      "Test loss: 0.016.. Test accuracy: 0.059\n",
      "Test loss: 0.018.. Test accuracy: 0.065\n",
      "Test loss: 0.020.. Test accuracy: 0.071\n",
      "Test loss: 0.021.. Test accuracy: 0.077\n",
      "Test loss: 0.022.. Test accuracy: 0.083\n",
      "Test loss: 0.024.. Test accuracy: 0.089\n",
      "Test loss: 0.026.. Test accuracy: 0.094\n",
      "Test loss: 0.027.. Test accuracy: 0.100\n",
      "Test loss: 0.029.. Test accuracy: 0.106\n",
      "Test loss: 0.032.. Test accuracy: 0.111\n",
      "Test loss: 0.035.. Test accuracy: 0.116\n",
      "Test loss: 0.038.. Test accuracy: 0.122\n",
      "Test loss: 0.039.. Test accuracy: 0.128\n",
      "Test loss: 0.041.. Test accuracy: 0.134\n",
      "Test loss: 0.044.. Test accuracy: 0.139\n",
      "Test loss: 0.046.. Test accuracy: 0.145\n",
      "Test loss: 0.047.. Test accuracy: 0.151\n",
      "Test loss: 0.050.. Test accuracy: 0.157\n",
      "Test loss: 0.053.. Test accuracy: 0.162\n",
      "Test loss: 0.054.. Test accuracy: 0.168\n",
      "Test loss: 0.056.. Test accuracy: 0.174\n",
      "Test loss: 0.059.. Test accuracy: 0.179\n",
      "Test loss: 0.062.. Test accuracy: 0.185\n",
      "Test loss: 0.064.. Test accuracy: 0.191\n",
      "Test loss: 0.066.. Test accuracy: 0.197\n",
      "Test loss: 0.069.. Test accuracy: 0.202\n",
      "Test loss: 0.071.. Test accuracy: 0.208\n",
      "Test loss: 0.072.. Test accuracy: 0.215\n",
      "Test loss: 0.075.. Test accuracy: 0.220\n",
      "Test loss: 0.076.. Test accuracy: 0.226\n",
      "Test loss: 0.078.. Test accuracy: 0.232\n",
      "Test loss: 0.080.. Test accuracy: 0.237\n",
      "Test loss: 0.082.. Test accuracy: 0.243\n",
      "Test loss: 0.083.. Test accuracy: 0.250\n",
      "Test loss: 0.084.. Test accuracy: 0.256\n",
      "Test loss: 0.086.. Test accuracy: 0.261\n",
      "Test loss: 0.088.. Test accuracy: 0.267\n",
      "Test loss: 0.089.. Test accuracy: 0.273\n",
      "Test loss: 0.091.. Test accuracy: 0.279\n",
      "Test loss: 0.093.. Test accuracy: 0.285\n",
      "Test loss: 0.095.. Test accuracy: 0.291\n",
      "Test loss: 0.096.. Test accuracy: 0.297\n",
      "Test loss: 0.097.. Test accuracy: 0.303\n",
      "Test loss: 0.099.. Test accuracy: 0.309\n",
      "Test loss: 0.100.. Test accuracy: 0.315\n",
      "Test loss: 0.101.. Test accuracy: 0.321\n",
      "Test loss: 0.104.. Test accuracy: 0.327\n",
      "Test loss: 0.106.. Test accuracy: 0.333\n",
      "Test loss: 0.107.. Test accuracy: 0.338\n",
      "Test loss: 0.109.. Test accuracy: 0.344\n",
      "Test loss: 0.113.. Test accuracy: 0.349\n",
      "Test loss: 0.116.. Test accuracy: 0.354\n",
      "Test loss: 0.119.. Test accuracy: 0.360\n",
      "Test loss: 0.121.. Test accuracy: 0.366\n",
      "Test loss: 0.123.. Test accuracy: 0.372\n",
      "Test loss: 0.124.. Test accuracy: 0.378\n",
      "Test loss: 0.127.. Test accuracy: 0.383\n",
      "Test loss: 0.129.. Test accuracy: 0.389\n",
      "Test loss: 0.132.. Test accuracy: 0.395\n",
      "Test loss: 0.134.. Test accuracy: 0.400\n",
      "Test loss: 0.135.. Test accuracy: 0.406\n",
      "Test loss: 0.137.. Test accuracy: 0.412\n",
      "Test loss: 0.139.. Test accuracy: 0.418\n",
      "Test loss: 0.141.. Test accuracy: 0.424\n",
      "Test loss: 0.142.. Test accuracy: 0.430\n",
      "Test loss: 0.143.. Test accuracy: 0.436\n",
      "Test loss: 0.146.. Test accuracy: 0.442\n",
      "Test loss: 0.148.. Test accuracy: 0.447\n",
      "Test loss: 0.151.. Test accuracy: 0.453\n",
      "Test loss: 0.151.. Test accuracy: 0.459\n",
      "Test loss: 0.152.. Test accuracy: 0.465\n",
      "Test loss: 0.153.. Test accuracy: 0.471\n",
      "Test loss: 0.154.. Test accuracy: 0.477\n",
      "Test loss: 0.154.. Test accuracy: 0.484\n",
      "Test loss: 0.155.. Test accuracy: 0.490\n",
      "Test loss: 0.155.. Test accuracy: 0.496\n",
      "Test loss: 0.156.. Test accuracy: 0.502\n",
      "Test loss: 0.156.. Test accuracy: 0.509\n",
      "Test loss: 0.157.. Test accuracy: 0.515\n",
      "Test loss: 0.159.. Test accuracy: 0.521\n",
      "Test loss: 0.161.. Test accuracy: 0.527\n",
      "Test loss: 0.161.. Test accuracy: 0.533\n",
      "Test loss: 0.163.. Test accuracy: 0.539\n",
      "Test loss: 0.165.. Test accuracy: 0.545\n",
      "Test loss: 0.167.. Test accuracy: 0.551\n",
      "Test loss: 0.169.. Test accuracy: 0.556\n",
      "Test loss: 0.170.. Test accuracy: 0.562\n",
      "Test loss: 0.172.. Test accuracy: 0.568\n",
      "Test loss: 0.172.. Test accuracy: 0.575\n",
      "Test loss: 0.172.. Test accuracy: 0.581\n",
      "Test loss: 0.173.. Test accuracy: 0.587\n",
      "Test loss: 0.174.. Test accuracy: 0.593\n",
      "Test loss: 0.175.. Test accuracy: 0.600\n",
      "Test loss: 0.177.. Test accuracy: 0.605\n",
      "Test loss: 0.180.. Test accuracy: 0.611\n",
      "Test loss: 0.180.. Test accuracy: 0.617\n",
      "Test loss: 0.182.. Test accuracy: 0.623\n",
      "Test loss: 0.184.. Test accuracy: 0.629\n",
      "Test loss: 0.184.. Test accuracy: 0.635\n",
      "Test loss: 0.185.. Test accuracy: 0.641\n",
      "Test loss: 0.185.. Test accuracy: 0.648\n",
      "Test loss: 0.185.. Test accuracy: 0.654\n",
      "Test loss: 0.186.. Test accuracy: 0.660\n",
      "Test loss: 0.187.. Test accuracy: 0.666\n",
      "Test loss: 0.187.. Test accuracy: 0.673\n",
      "Test loss: 0.188.. Test accuracy: 0.679\n",
      "Test loss: 0.188.. Test accuracy: 0.685\n",
      "Test loss: 0.190.. Test accuracy: 0.691\n",
      "Test loss: 0.191.. Test accuracy: 0.697\n",
      "Test loss: 0.191.. Test accuracy: 0.704\n",
      "Test loss: 0.192.. Test accuracy: 0.710\n",
      "Test loss: 0.192.. Test accuracy: 0.716\n",
      "Test loss: 0.193.. Test accuracy: 0.723\n",
      "Test loss: 0.196.. Test accuracy: 0.728\n",
      "Test loss: 0.198.. Test accuracy: 0.733\n",
      "Test loss: 0.199.. Test accuracy: 0.740\n",
      "Test loss: 0.199.. Test accuracy: 0.746\n",
      "Test loss: 0.201.. Test accuracy: 0.751\n",
      "Test loss: 0.201.. Test accuracy: 0.758\n",
      "Test loss: 0.202.. Test accuracy: 0.764\n",
      "Test loss: 0.203.. Test accuracy: 0.770\n",
      "Test loss: 0.204.. Test accuracy: 0.776\n",
      "Test loss: 0.205.. Test accuracy: 0.782\n",
      "Test loss: 0.205.. Test accuracy: 0.789\n",
      "Test loss: 0.206.. Test accuracy: 0.795\n",
      "Test loss: 0.207.. Test accuracy: 0.801\n",
      "Test loss: 0.207.. Test accuracy: 0.807\n",
      "Test loss: 0.207.. Test accuracy: 0.814\n",
      "Test loss: 0.207.. Test accuracy: 0.820\n",
      "Test loss: 0.207.. Test accuracy: 0.827\n",
      "Test loss: 0.207.. Test accuracy: 0.833\n",
      "Test loss: 0.209.. Test accuracy: 0.839\n",
      "Test loss: 0.211.. Test accuracy: 0.845\n",
      "Test loss: 0.212.. Test accuracy: 0.851\n",
      "Test loss: 0.212.. Test accuracy: 0.857\n",
      "Test loss: 0.212.. Test accuracy: 0.864\n",
      "Test loss: 0.213.. Test accuracy: 0.870\n",
      "Test loss: 0.213.. Test accuracy: 0.876\n",
      "Test loss: 0.214.. Test accuracy: 0.882\n",
      "Test loss: 0.215.. Test accuracy: 0.888\n",
      "Test loss: 0.216.. Test accuracy: 0.894\n",
      "Test loss: 0.217.. Test accuracy: 0.900\n",
      "Test loss: 0.219.. Test accuracy: 0.906\n",
      "Test loss: 0.223.. Test accuracy: 0.911\n",
      "Test loss: 0.225.. Test accuracy: 0.917\n",
      "Test loss: 0.227.. Test accuracy: 0.923\n",
      "Test loss: 0.229.. Test accuracy: 0.928\n",
      "Test loss: 0.230.. Test accuracy: 0.934\n"
     ]
    }
   ],
   "source": [
    "optimizer = optim.SGD(model.parameters(), lr=0.005)\n",
    "\n",
    "for e in range(epochs):\n",
    "    running_loss = 0\n",
    "    for images, labels in trainloader:\n",
    "        inputs, labels = inputs.to(device), labels.to(device)\n",
    "        optimizer.zero_grad()\n",
    "\n",
    "        output = model(images)\n",
    "        loss = criterion(output, labels)\n",
    "        loss.backward()\n",
    "        optimizer.step()\n",
    "\n",
    "        running_loss += loss.item()\n",
    "    else:\n",
    "        print(f\"Training loss: {running_loss/len(trainloader)}\")\n",
    "\n",
    "        model.train()\n",
    "\n",
    "        train_losses.append(running_loss/len(trainloader))\n",
    "\n",
    "        print(\"Epoch: {}/{}.. \".format(e+1, epochs),\n",
    "                \"Training Loss: {:.3f}.. \".format(train_losses[-1]),\n",
    "                )\n",
    "        \n",
    "test_loss = 0\n",
    "accuracy = 0\n",
    "        \n",
    "# Turn off gradients for validation, saves memory and computations\n",
    "with torch.no_grad():\n",
    "    model.eval()\n",
    "    with torch.no_grad():\n",
    "                for inputs, labels in testloader:\n",
    "                    inputs, labels = inputs.to(device), labels.to(device)\n",
    "                    logps = model.forward(inputs)\n",
    "                    batch_loss = criterion(logps, labels)\n",
    "                    \n",
    "                    test_loss += batch_loss.item()\n",
    "                    \n",
    "                    # Calculate accuracy\n",
    "                    ps = torch.exp(logps)\n",
    "                    top_p, top_class = ps.topk(1, dim=1)\n",
    "                    equals = top_class == labels.view(*top_class.shape)\n",
    "                    accuracy += torch.mean(equals.type(torch.FloatTensor)).item()\n",
    "                    print(\n",
    "                        f\"Test loss: {test_loss/len(testloader):.3f}.. \"\n",
    "                        f\"Test accuracy: {accuracy/len(testloader):.3f}\")"
   ]
  },
  {
   "cell_type": "markdown",
   "metadata": {},
   "source": [
    "## Saving your model\n",
    "Using `torch.save`, save your model for future loading."
   ]
  },
  {
   "cell_type": "code",
   "execution_count": 43,
   "metadata": {},
   "outputs": [
    {
     "name": "stdout",
     "output_type": "stream",
     "text": [
      "Our model: \n",
      "\n",
      " Sequential(\n",
      "  (0): Flatten(start_dim=1, end_dim=-1)\n",
      "  (1): Linear(in_features=784, out_features=128, bias=True)\n",
      "  (2): ReLU()\n",
      "  (3): Linear(in_features=128, out_features=64, bias=True)\n",
      "  (4): ReLU()\n",
      "  (5): Linear(in_features=64, out_features=10, bias=True)\n",
      "  (6): LogSoftmax(dim=1)\n",
      ") \n",
      "\n",
      "The state dict keys: \n",
      "\n",
      " odict_keys(['1.weight', '1.bias', '3.weight', '3.bias', '5.weight', '5.bias'])\n"
     ]
    }
   ],
   "source": [
    "print(\"Our model: \\n\\n\", model, '\\n')\n",
    "print(\"The state dict keys: \\n\\n\", model.state_dict().keys())\n",
    "torch.save(model.state_dict(), 'checkpoint.pth')"
   ]
  }
 ],
 "metadata": {
  "kernelspec": {
   "display_name": "base",
   "language": "python",
   "name": "python3"
  },
  "language_info": {
   "codemirror_mode": {
    "name": "ipython",
    "version": 3
   },
   "file_extension": ".py",
   "mimetype": "text/x-python",
   "name": "python",
   "nbconvert_exporter": "python",
   "pygments_lexer": "ipython3",
   "version": "3.12.10"
  }
 },
 "nbformat": 4,
 "nbformat_minor": 4
}
